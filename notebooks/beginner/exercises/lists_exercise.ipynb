{
 "cells": [
  {
   "cell_type": "markdown",
   "metadata": {},
   "source": [
    "# 1. Fill the missing pieces\n",
    "Fill the `____` parts of the code below."
   ]
  },
  {
   "cell_type": "code",
   "execution_count": 5,
   "metadata": {},
   "outputs": [],
   "source": [
    "# Let's create an empty list\n",
    "my_list = []\n",
    "\n",
    "# Let's add some values\n",
    "my_list.append('Python')\n",
    "my_list.append('is ok')\n",
    "my_list.append('sometimes')\n",
    "\n",
    "# Let's remove 'sometimes'\n",
    "my_list.remove('sometimes')\n",
    "\n",
    "# Let's change the second item\n",
    "my_list[1] = 'is neat'"
   ]
  },
  {
   "cell_type": "code",
   "execution_count": 6,
   "metadata": {
    "editable": false
   },
   "outputs": [],
   "source": [
    "# Let's verify that it's correct\n",
    "assert my_list == ['Python', 'is neat']"
   ]
  },
  {
   "cell_type": "markdown",
   "metadata": {},
   "source": [
    "# 2. Create a new list without modifiying the original one\n"
   ]
  },
  {
   "cell_type": "code",
   "execution_count": 7,
   "metadata": {
    "editable": false
   },
   "outputs": [],
   "source": [
    "original = ['I', 'am', 'learning', 'hacking', 'in']"
   ]
  },
  {
   "cell_type": "code",
   "execution_count": 9,
   "metadata": {},
   "outputs": [],
   "source": [
    "# Your implementation here\n",
    "modified = ['Seems','Good','to','learn']"
   ]
  },
  {
   "cell_type": "code",
   "execution_count": 10,
   "metadata": {
    "editable": false
   },
   "outputs": [
    {
     "output_type": "error",
     "ename": "AssertionError",
     "evalue": "",
     "traceback": [
      "\u001b[1;31m---------------------------------------------------------------------------\u001b[0m",
      "\u001b[1;31mAssertionError\u001b[0m                            Traceback (most recent call last)",
      "\u001b[1;32m<ipython-input-10-518d874d2bc7>\u001b[0m in \u001b[0;36m<module>\u001b[1;34m\u001b[0m\n\u001b[0;32m      1\u001b[0m \u001b[1;32massert\u001b[0m \u001b[0moriginal\u001b[0m \u001b[1;33m==\u001b[0m \u001b[1;33m[\u001b[0m\u001b[1;34m'I'\u001b[0m\u001b[1;33m,\u001b[0m \u001b[1;34m'am'\u001b[0m\u001b[1;33m,\u001b[0m \u001b[1;34m'learning'\u001b[0m\u001b[1;33m,\u001b[0m \u001b[1;34m'hacking'\u001b[0m\u001b[1;33m,\u001b[0m \u001b[1;34m'in'\u001b[0m\u001b[1;33m]\u001b[0m\u001b[1;33m\u001b[0m\u001b[1;33m\u001b[0m\u001b[0m\n\u001b[1;32m----> 2\u001b[1;33m \u001b[1;32massert\u001b[0m \u001b[0mmodified\u001b[0m \u001b[1;33m==\u001b[0m \u001b[1;33m[\u001b[0m\u001b[1;34m'I'\u001b[0m\u001b[1;33m,\u001b[0m \u001b[1;34m'am'\u001b[0m\u001b[1;33m,\u001b[0m \u001b[1;34m'learning'\u001b[0m\u001b[1;33m,\u001b[0m \u001b[1;34m'lists'\u001b[0m\u001b[1;33m,\u001b[0m \u001b[1;34m'in'\u001b[0m\u001b[1;33m,\u001b[0m \u001b[1;34m'Python'\u001b[0m\u001b[1;33m]\u001b[0m\u001b[1;33m\u001b[0m\u001b[1;33m\u001b[0m\u001b[0m\n\u001b[0m",
      "\u001b[1;31mAssertionError\u001b[0m: "
     ]
    }
   ],
   "source": [
    "assert original == ['I', 'am', 'learning', 'hacking', 'in']\n",
    "assert modified == ['I', 'am', 'learning', 'lists', 'in', 'Python']"
   ]
  },
  {
   "cell_type": "markdown",
   "metadata": {},
   "source": [
    "# 3. Create a merged sorted list"
   ]
  },
  {
   "cell_type": "code",
   "execution_count": 3,
   "metadata": {
    "editable": false
   },
   "outputs": [],
   "source": [
    "list1 = [6, 12, 5]\n",
    "list2 = [6.2, 0, 14, 1]\n",
    "list3 = [0.9]"
   ]
  },
  {
   "cell_type": "code",
   "execution_count": 4,
   "metadata": {},
   "outputs": [],
   "source": [
    "# Your implementation here\n",
    "my_list = list1\n",
    "my_list.extend(list2)\n",
    "my_list.extend(list3)\n",
    "my_list.sort(reverse=True)\n",
    "\n"
   ]
  },
  {
   "cell_type": "code",
   "execution_count": 5,
   "metadata": {
    "editable": false,
    "scrolled": true
   },
   "outputs": [
    {
     "output_type": "stream",
     "name": "stdout",
     "text": [
      "[14, 12, 6.2, 6, 5, 1, 0.9, 0]\n"
     ]
    }
   ],
   "source": [
    "print(my_list)\n",
    "assert my_list == [14, 12, 6.2, 6, 5, 1, 0.9, 0]"
   ]
  },
  {
   "cell_type": "code",
   "execution_count": null,
   "metadata": {},
   "outputs": [],
   "source": []
  }
 ],
 "metadata": {
  "kernelspec": {
   "name": "python3",
   "display_name": "Python 3.8.3 64-bit"
  },
  "language_info": {
   "codemirror_mode": {
    "name": "ipython",
    "version": 3
   },
   "file_extension": ".py",
   "mimetype": "text/x-python",
   "name": "python",
   "nbconvert_exporter": "python",
   "pygments_lexer": "ipython3",
   "version": "3.8.3"
  },
  "interpreter": {
   "hash": "5428b240b1467addefd8da96e7305651cd5357883edc98cb4b89bc263f7bc49f"
  }
 },
 "nbformat": 4,
 "nbformat_minor": 2
}