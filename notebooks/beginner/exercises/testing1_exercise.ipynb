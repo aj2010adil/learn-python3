{
 "cells": [
  {
   "cell_type": "code",
   "execution_count": 9,
   "metadata": {},
   "outputs": [
    {
     "output_type": "stream",
     "name": "stdout",
     "text": [
      "Requirement already satisfied: pytest in c:\\users\\adil\\appdata\\local\\programs\\python\\python38\\lib\\site-packages (6.2.4)\n",
      "Requirement already satisfied: py>=1.8.2 in c:\\users\\adil\\appdata\\local\\programs\\python\\python38\\lib\\site-packages (from pytest) (1.10.0)\n",
      "Requirement already satisfied: iniconfig in c:\\users\\adil\\appdata\\local\\programs\\python\\python38\\lib\\site-packages (from pytest) (1.1.1)\n",
      "Requirement already satisfied: toml in c:\\users\\adil\\appdata\\roaming\\python\\python38\\site-packages (from pytest) (0.10.2)\n",
      "Requirement already satisfied: pluggy<1.0.0a1,>=0.12 in c:\\users\\adil\\appdata\\local\\programs\\python\\python38\\lib\\site-packages (from pytest) (0.13.1)\n",
      "Requirement already satisfied: colorama in c:\\users\\adil\\appdata\\roaming\\python\\python38\\site-packages (from pytest) (0.4.4)\n",
      "Requirement already satisfied: attrs>=19.2.0 in c:\\users\\adil\\appdata\\local\\programs\\python\\python38\\lib\\site-packages (from pytest) (20.3.0)\n",
      "Requirement already satisfied: packaging in c:\\users\\adil\\appdata\\local\\programs\\python\\python38\\lib\\site-packages (from pytest) (21.0)\n",
      "Requirement already satisfied: atomicwrites>=1.0 in c:\\users\\adil\\appdata\\local\\programs\\python\\python38\\lib\\site-packages (from pytest) (1.4.0)\n",
      "Requirement already satisfied: pyparsing>=2.0.2 in c:\\users\\adil\\appdata\\local\\programs\\python\\python38\\lib\\site-packages (from packaging->pytest) (2.4.7)\n",
      "WARNING: You are using pip version 21.0.1; however, version 21.1.3 is available.\n",
      "You should consider upgrading via the 'C:\\Users\\Adil\\AppData\\Local\\Programs\\Python\\Python38\\python.exe -m pip install --upgrade pip' command.\n",
      "Requirement already satisfied: ipytest in c:\\users\\adil\\appdata\\local\\programs\\python\\python38\\lib\\site-packages (0.10.0)\n",
      "Requirement already satisfied: packaging in c:\\users\\adil\\appdata\\local\\programs\\python\\python38\\lib\\site-packages (from ipytest) (21.0)\n",
      "Requirement already satisfied: pytest>=5.4 in c:\\users\\adil\\appdata\\local\\programs\\python\\python38\\lib\\site-packages (from ipytest) (6.2.4)\n",
      "Requirement already satisfied: ipython in c:\\users\\adil\\appdata\\roaming\\python\\python38\\site-packages (from ipytest) (7.24.1)\n",
      "Requirement already satisfied: py>=1.8.2 in c:\\users\\adil\\appdata\\local\\programs\\python\\python38\\lib\\site-packages (from pytest>=5.4->ipytest) (1.10.0)\n",
      "Requirement already satisfied: attrs>=19.2.0 in c:\\users\\adil\\appdata\\local\\programs\\python\\python38\\lib\\site-packages (from pytest>=5.4->ipytest) (20.3.0)\n",
      "Requirement already satisfied: iniconfig in c:\\users\\adil\\appdata\\local\\programs\\python\\python38\\lib\\site-packages (from pytest>=5.4->ipytest) (1.1.1)\n",
      "Requirement already satisfied: pluggy<1.0.0a1,>=0.12 in c:\\users\\adil\\appdata\\local\\programs\\python\\python38\\lib\\site-packages (from pytest>=5.4->ipytest) (0.13.1)\n",
      "Requirement already satisfied: colorama in c:\\users\\adil\\appdata\\roaming\\python\\python38\\site-packages (from pytest>=5.4->ipytest) (0.4.4)\n",
      "Requirement already satisfied: toml in c:\\users\\adil\\appdata\\roaming\\python\\python38\\site-packages (from pytest>=5.4->ipytest) (0.10.2)\n",
      "Requirement already satisfied: atomicwrites>=1.0 in c:\\users\\adil\\appdata\\local\\programs\\python\\python38\\lib\\site-packages (from pytest>=5.4->ipytest) (1.4.0)\n",
      "Requirement already satisfied: backcall in c:\\users\\adil\\appdata\\roaming\\python\\python38\\site-packages (from ipython->ipytest) (0.2.0)\n",
      "Requirement already satisfied: pickleshare in c:\\users\\adil\\appdata\\roaming\\python\\python38\\site-packages (from ipython->ipytest) (0.7.5)\n",
      "Requirement already satisfied: jedi>=0.16 in c:\\users\\adil\\appdata\\roaming\\python\\python38\\site-packages (from ipython->ipytest) (0.18.0)\n",
      "Requirement already satisfied: pygments in c:\\users\\adil\\appdata\\roaming\\python\\python38\\site-packages (from ipython->ipytest) (2.9.0)\n",
      "Requirement already satisfied: decorator in c:\\users\\adil\\appdata\\roaming\\python\\python38\\site-packages (from ipython->ipytest) (5.0.9)\n",
      "Requirement already satisfied: matplotlib-inline in c:\\users\\adil\\appdata\\roaming\\python\\python38\\site-packages (from ipython->ipytest) (0.1.2)\n",
      "Requirement already satisfied: setuptools>=18.5 in c:\\users\\adil\\appdata\\local\\programs\\python\\python38\\lib\\site-packages (from ipython->ipytest) (41.2.0)\n",
      "Requirement already satisfied: prompt-toolkit!=3.0.0,!=3.0.1,<3.1.0,>=2.0.0 in c:\\users\\adil\\appdata\\roaming\\python\\python38\\site-packages (from ipython->ipytest) (3.0.19)\n",
      "Requirement already satisfied: traitlets>=4.2 in c:\\users\\adil\\appdata\\roaming\\python\\python38\\site-packages (from ipython->ipytest) (5.0.5)\n",
      "Requirement already satisfied: parso<0.9.0,>=0.8.0 in c:\\users\\adil\\appdata\\roaming\\python\\python38\\site-packages (from jedi>=0.16->ipython->ipytest) (0.8.2)\n",
      "Requirement already satisfied: wcwidth in c:\\users\\adil\\appdata\\roaming\\python\\python38\\site-packages (from prompt-toolkit!=3.0.0,!=3.0.1,<3.1.0,>=2.0.0->ipython->ipytest) (0.2.5)\n",
      "Requirement already satisfied: ipython-genutils in c:\\users\\adil\\appdata\\roaming\\python\\python38\\site-packages (from traitlets>=4.2->ipython->ipytest) (0.2.0)\n",
      "Requirement already satisfied: pyparsing>=2.0.2 in c:\\users\\adil\\appdata\\local\\programs\\python\\python38\\lib\\site-packages (from packaging->ipytest) (2.4.7)\n",
      "WARNING: You are using pip version 21.0.1; however, version 21.1.3 is available.\n",
      "You should consider upgrading via the 'C:\\Users\\Adil\\AppData\\Local\\Programs\\Python\\Python38\\python.exe -m pip install --upgrade pip' command.\n"
     ]
    }
   ],
   "source": [
    "# Required boilerplate\n",
    "import sys\n",
    "!{sys.executable} -m pip install pytest\n",
    "!{sys.executable} -m pip install ipytest\n",
    "\n",
    "import ipytest\n",
    "import pytest\n",
    "ipytest.autoconfig()\n",
    "\n",
    "__file__ = 'testing1_exercise.ipynb'"
   ]
  },
  {
   "cell_type": "markdown",
   "metadata": {},
   "source": [
    "# 1. Creating your first test case\n",
    "There is an implementation for `get_divisible_by_five` function in the cell below. Your task is to create a test case for this function to verify that it works correctly.\n"
   ]
  },
  {
   "cell_type": "code",
   "execution_count": 13,
   "metadata": {
    "editable": false
   },
   "outputs": [],
   "source": [
    "def get_divisible_by_five(numbers):\n",
    "    '''Returns a list of numbers which are divisible by five in the list got as an argument'''\n",
    "    result = []\n",
    "    for num in numbers:\n",
    "        if not num % 5:\n",
    "            result.append(num)\n",
    "\n",
    "    return result"
   ]
  },
  {
   "cell_type": "code",
   "execution_count": 18,
   "metadata": {},
   "outputs": [
    {
     "output_type": "stream",
     "name": "stdout",
     "text": [
      ".                                                                        [100%]\n",
      "1 passed in 0.02s\n"
     ]
    }
   ],
   "source": [
    "%%run_pytest[clean]\n",
    "\n",
    "def test_get_divisible_by_five():\n",
    "    # Your implementation here\n",
    "    assert get_divisible_by_five([25,46])==[25]\n",
    "\n"
   ]
  },
  {
   "cell_type": "code",
   "execution_count": 19,
   "metadata": {},
   "outputs": [
    {
     "output_type": "execute_result",
     "data": {
      "text/plain": [
       "[25]"
      ]
     },
     "metadata": {},
     "execution_count": 19
    }
   ],
   "source": [
    "\n",
    "get_divisible_by_five([25])"
   ]
  },
  {
   "cell_type": "code",
   "execution_count": 7,
   "metadata": {},
   "outputs": [],
   "source": [
    "import ipytest\n"
   ]
  },
  {
   "cell_type": "code",
   "execution_count": 20,
   "metadata": {},
   "outputs": [
    {
     "output_type": "stream",
     "name": "stdout",
     "text": [
      ".                                                                        [100%]\n",
      "1 passed in 0.02s\n"
     ]
    }
   ],
   "source": [
    "ipytest.run()"
   ]
  },
  {
   "cell_type": "code",
   "execution_count": null,
   "metadata": {},
   "outputs": [],
   "source": []
  }
 ],
 "metadata": {
  "kernelspec": {
   "name": "python3",
   "display_name": "Python 3.8.3 64-bit"
  },
  "language_info": {
   "codemirror_mode": {
    "name": "ipython",
    "version": 3
   },
   "file_extension": ".py",
   "mimetype": "text/x-python",
   "name": "python",
   "nbconvert_exporter": "python",
   "pygments_lexer": "ipython3",
   "version": "3.8.3"
  },
  "interpreter": {
   "hash": "5428b240b1467addefd8da96e7305651cd5357883edc98cb4b89bc263f7bc49f"
  }
 },
 "nbformat": 4,
 "nbformat_minor": 2
}